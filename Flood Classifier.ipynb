{
 "cells": [
  {
   "cell_type": "markdown",
   "id": "f8ae7ded",
   "metadata": {},
   "source": [
    "### Data Visualization"
   ]
  },
  {
   "cell_type": "code",
   "execution_count": 2,
   "id": "8c5dad3a",
   "metadata": {},
   "outputs": [],
   "source": [
    "import pandas as pd\n",
    "data = pd.read_csv(\"AEGISDataset.csv\")"
   ]
  },
  {
   "cell_type": "code",
   "execution_count": 4,
   "id": "167c5d68",
   "metadata": {},
   "outputs": [
    {
     "data": {
      "text/html": [
       "<div>\n",
       "<style scoped>\n",
       "    .dataframe tbody tr th:only-of-type {\n",
       "        vertical-align: middle;\n",
       "    }\n",
       "\n",
       "    .dataframe tbody tr th {\n",
       "        vertical-align: top;\n",
       "    }\n",
       "\n",
       "    .dataframe thead th {\n",
       "        text-align: right;\n",
       "    }\n",
       "</style>\n",
       "<table border=\"1\" class=\"dataframe\">\n",
       "  <thead>\n",
       "    <tr style=\"text-align: right;\">\n",
       "      <th></th>\n",
       "      <th>lat</th>\n",
       "      <th>lon</th>\n",
       "      <th>flood_heig</th>\n",
       "      <th>elevation</th>\n",
       "      <th>precipitat</th>\n",
       "    </tr>\n",
       "  </thead>\n",
       "  <tbody>\n",
       "    <tr>\n",
       "      <th>0</th>\n",
       "      <td>14.640394</td>\n",
       "      <td>121.055708</td>\n",
       "      <td>0</td>\n",
       "      <td>54.553295</td>\n",
       "      <td>9.0</td>\n",
       "    </tr>\n",
       "    <tr>\n",
       "      <th>1</th>\n",
       "      <td>14.698299</td>\n",
       "      <td>121.002132</td>\n",
       "      <td>0</td>\n",
       "      <td>21.856272</td>\n",
       "      <td>10.0</td>\n",
       "    </tr>\n",
       "    <tr>\n",
       "      <th>2</th>\n",
       "      <td>14.698858</td>\n",
       "      <td>121.100261</td>\n",
       "      <td>0</td>\n",
       "      <td>69.322807</td>\n",
       "      <td>16.0</td>\n",
       "    </tr>\n",
       "    <tr>\n",
       "      <th>3</th>\n",
       "      <td>14.571310</td>\n",
       "      <td>120.983334</td>\n",
       "      <td>0</td>\n",
       "      <td>10.987241</td>\n",
       "      <td>8.0</td>\n",
       "    </tr>\n",
       "    <tr>\n",
       "      <th>4</th>\n",
       "      <td>14.762232</td>\n",
       "      <td>121.075735</td>\n",
       "      <td>0</td>\n",
       "      <td>87.889847</td>\n",
       "      <td>18.0</td>\n",
       "    </tr>\n",
       "    <tr>\n",
       "      <th>5</th>\n",
       "      <td>14.601178</td>\n",
       "      <td>121.088599</td>\n",
       "      <td>0</td>\n",
       "      <td>14.463734</td>\n",
       "      <td>11.0</td>\n",
       "    </tr>\n",
       "    <tr>\n",
       "      <th>6</th>\n",
       "      <td>14.708031</td>\n",
       "      <td>121.052674</td>\n",
       "      <td>0</td>\n",
       "      <td>45.000553</td>\n",
       "      <td>12.0</td>\n",
       "    </tr>\n",
       "    <tr>\n",
       "      <th>7</th>\n",
       "      <td>14.709206</td>\n",
       "      <td>121.050292</td>\n",
       "      <td>0</td>\n",
       "      <td>43.226852</td>\n",
       "      <td>13.0</td>\n",
       "    </tr>\n",
       "    <tr>\n",
       "      <th>8</th>\n",
       "      <td>14.709625</td>\n",
       "      <td>121.047006</td>\n",
       "      <td>0</td>\n",
       "      <td>43.183113</td>\n",
       "      <td>12.0</td>\n",
       "    </tr>\n",
       "    <tr>\n",
       "      <th>9</th>\n",
       "      <td>14.669338</td>\n",
       "      <td>121.132898</td>\n",
       "      <td>0</td>\n",
       "      <td>48.276211</td>\n",
       "      <td>17.0</td>\n",
       "    </tr>\n",
       "  </tbody>\n",
       "</table>\n",
       "</div>"
      ],
      "text/plain": [
       "         lat         lon  flood_heig  elevation  precipitat\n",
       "0  14.640394  121.055708           0  54.553295         9.0\n",
       "1  14.698299  121.002132           0  21.856272        10.0\n",
       "2  14.698858  121.100261           0  69.322807        16.0\n",
       "3  14.571310  120.983334           0  10.987241         8.0\n",
       "4  14.762232  121.075735           0  87.889847        18.0\n",
       "5  14.601178  121.088599           0  14.463734        11.0\n",
       "6  14.708031  121.052674           0  45.000553        12.0\n",
       "7  14.709206  121.050292           0  43.226852        13.0\n",
       "8  14.709625  121.047006           0  43.183113        12.0\n",
       "9  14.669338  121.132898           0  48.276211        17.0"
      ]
     },
     "metadata": {},
     "output_type": "display_data"
    }
   ],
   "source": [
    "display(data.head(10))"
   ]
  },
  {
   "cell_type": "code",
   "execution_count": 10,
   "id": "769b4280",
   "metadata": {},
   "outputs": [
    {
     "name": "stdout",
     "output_type": "stream",
     "text": [
      "Dataset keys\n"
     ]
    },
    {
     "data": {
      "text/plain": [
       "Index(['lat', 'lon', 'flood_heig', 'elevation', 'precipitat'], dtype='object')"
      ]
     },
     "execution_count": 10,
     "metadata": {},
     "output_type": "execute_result"
    }
   ],
   "source": [
    "print(\"Dataset keys\")\n",
    "data.keys()"
   ]
  },
  {
   "cell_type": "code",
   "execution_count": 12,
   "id": "19dbbab8",
   "metadata": {},
   "outputs": [
    {
     "data": {
      "text/plain": [
       "0       0\n",
       "1       0\n",
       "2       0\n",
       "3       0\n",
       "4       0\n",
       "       ..\n",
       "3505    8\n",
       "3506    8\n",
       "3507    8\n",
       "3508    8\n",
       "3509    8\n",
       "Name: flood_heig, Length: 3510, dtype: int64"
      ]
     },
     "execution_count": 12,
     "metadata": {},
     "output_type": "execute_result"
    }
   ],
   "source": [
    "data.flood_heig"
   ]
  },
  {
   "cell_type": "code",
   "execution_count": 13,
   "id": "bb4d0174",
   "metadata": {},
   "outputs": [],
   "source": [
    "#importing the model\n",
    "from sklearn.neighbors import KNeighborsClassifier\n",
    "knn=KNeighborsClassifier(n_neighbors=9)"
   ]
  },
  {
   "cell_type": "code",
   "execution_count": 6,
   "id": "aa1c7b65",
   "metadata": {},
   "outputs": [
    {
     "data": {
      "text/plain": [
       "(3510, 5)"
      ]
     },
     "execution_count": 6,
     "metadata": {},
     "output_type": "execute_result"
    }
   ],
   "source": [
    "data.shape"
   ]
  },
  {
   "cell_type": "code",
   "execution_count": 7,
   "id": "953e56e9",
   "metadata": {},
   "outputs": [
    {
     "name": "stdout",
     "output_type": "stream",
     "text": [
      "<class 'pandas.core.frame.DataFrame'>\n",
      "RangeIndex: 3510 entries, 0 to 3509\n",
      "Data columns (total 5 columns):\n",
      " #   Column      Non-Null Count  Dtype  \n",
      "---  ------      --------------  -----  \n",
      " 0   lat         3510 non-null   float64\n",
      " 1   lon         3510 non-null   float64\n",
      " 2   flood_heig  3510 non-null   int64  \n",
      " 3   elevation   3510 non-null   float64\n",
      " 4   precipitat  3510 non-null   float64\n",
      "dtypes: float64(4), int64(1)\n",
      "memory usage: 137.2 KB\n"
     ]
    }
   ],
   "source": [
    "data.info()"
   ]
  },
  {
   "cell_type": "code",
   "execution_count": null,
   "id": "7f1c3af3",
   "metadata": {},
   "outputs": [],
   "source": []
  }
 ],
 "metadata": {
  "kernelspec": {
   "display_name": "Python 3 (ipykernel)",
   "language": "python",
   "name": "python3"
  },
  "language_info": {
   "codemirror_mode": {
    "name": "ipython",
    "version": 3
   },
   "file_extension": ".py",
   "mimetype": "text/x-python",
   "name": "python",
   "nbconvert_exporter": "python",
   "pygments_lexer": "ipython3",
   "version": "3.9.7"
  }
 },
 "nbformat": 4,
 "nbformat_minor": 5
}
