{
  "cells": [
    {
      "cell_type": "code",
      "source": [
        "from google.colab import drive\n",
        "drive.mount('/content/drive')"
      ],
      "metadata": {
        "colab": {
          "base_uri": "https://localhost:8080/"
        },
        "id": "zvuFzbcSVD0E",
        "outputId": "a7063aea-3e42-4e7a-b4c5-49577031fa6d"
      },
      "execution_count": 1,
      "outputs": [
        {
          "output_type": "stream",
          "name": "stdout",
          "text": [
            "Mounted at /content/drive\n"
          ]
        }
      ]
    },
    {
      "cell_type": "code",
      "execution_count": 24,
      "metadata": {
        "id": "GgB9RQilKsG2"
      },
      "outputs": [],
      "source": [
        "import pandas as pd\n",
        "import numpy as np\n",
        "from tqdm import tqdm\n",
        "import matplotlib.pyplot as plt\n",
        "import warnings\n",
        "warnings.filterwarnings('ignore')\n",
        "from sklearn.model_selection import train_test_split\n",
        "from sklearn.linear_model import LinearRegression, Lasso, Ridge\n",
        "from sklearn.metrics import mean_squared_error as mse\n",
        "from sklearn.ensemble import RandomForestRegressor\n",
        "from sklearn.model_selection import GridSearchCV\n",
        "import lightgbm as lgb \n",
        "from keras.models import Sequential, Model\n",
        "from keras.layers import Dense, Embedding, LSTM, Dropout, GRU, Conv1D, MaxPooling1D, Input, concatenate\n",
        "from keras.callbacks import TensorBoard, EarlyStopping, ModelCheckpoint"
      ]
    },
    {
      "cell_type": "markdown",
      "metadata": {
        "id": "mno2Om6xKsG-"
      },
      "source": [
        "## 1. Reading the data files"
      ]
    },
    {
      "cell_type": "code",
      "execution_count": 4,
      "metadata": {
        "id": "P7JtIwNxKsHG"
      },
      "outputs": [],
      "source": [
        "train = pd.read_pickle('features.pkl')\n",
        "predict = pd.read_csv('/content/drive/MyDrive/Final Project/Train.csv')"
      ]
    },
    {
      "cell_type": "markdown",
      "metadata": {
        "id": "77AdXddhKsHL"
      },
      "source": [
        "## 2. Set up training and testing sets"
      ]
    },
    {
      "cell_type": "code",
      "execution_count": 6,
      "metadata": {
        "id": "FrfYTVYuKsHN"
      },
      "outputs": [],
      "source": [
        "feature_cols = ['sum','mean','elevation','poly_rainfall','poly_elevation',\n",
        "                'elev_diff','rainfall_diff','water_count','water_dist']\n",
        "features = train[feature_cols]\n",
        "target = train['target']"
      ]
    },
    {
      "cell_type": "code",
      "execution_count": 7,
      "metadata": {
        "id": "vmFYJDefKsHR"
      },
      "outputs": [],
      "source": [
        "# train-test split (80-20)\n",
        "x_train, x_val, y_train, y_val = train_test_split(features, target, test_size=0.2, random_state=42)"
      ]
    },
    {
      "cell_type": "markdown",
      "metadata": {
        "id": "YB6NDkI3KsHX"
      },
      "source": [
        "## 3. Define loss function"
      ]
    },
    {
      "cell_type": "code",
      "execution_count": 8,
      "metadata": {
        "id": "9plHSurhKsHd"
      },
      "outputs": [],
      "source": [
        "def rmse(y_true,y_pred):\n",
        "    return np.sqrt(mse(y_true,y_pred))"
      ]
    },
    {
      "cell_type": "markdown",
      "metadata": {
        "id": "enLmpBgaKsHe"
      },
      "source": [
        "## 4a. Prediction using Lasso regression"
      ]
    },
    {
      "cell_type": "code",
      "execution_count": 21,
      "metadata": {
        "id": "4_V70OgCKsHi",
        "outputId": "b432480a-3b09-4af1-9c38-373a9f783b24",
        "colab": {
          "base_uri": "https://localhost:8080/"
        }
      },
      "outputs": [
        {
          "output_type": "stream",
          "name": "stderr",
          "text": [
            "100%|██████████| 100/100 [00:02<00:00, 37.44it/s]"
          ]
        },
        {
          "output_type": "stream",
          "name": "stdout",
          "text": [
            "RMSE for lasso: 0.21830691185854453, alpha = 0\n"
          ]
        },
        {
          "output_type": "stream",
          "name": "stderr",
          "text": [
            "\n"
          ]
        }
      ],
      "source": [
        "# Lasso regression\n",
        "best_lasso_model = None\n",
        "best_lasso_score = float('inf')\n",
        "best_alpha = 0\n",
        "for a in tqdm(range(0,100)):\n",
        "    lasso_model = Lasso(alpha=a/10).fit(x_train, y_train)\n",
        "    val_pred_lasso = lasso_model.predict(x_val)\n",
        "    val_score_lasso = rmse(val_pred_lasso,y_val)\n",
        "    if val_score_lasso < best_lasso_score:\n",
        "        best_alpha = a\n",
        "        best_lasso_score = val_score_lasso\n",
        "        best_lasso_model = lasso_model\n",
        "print(f'RMSE for lasso: {best_lasso_score}, alpha = {best_alpha}')"
      ]
    },
    {
      "cell_type": "markdown",
      "metadata": {
        "id": "uUwTBOfBKsHq"
      },
      "source": [
        "## 4b. Prediction using Ridge regression"
      ]
    },
    {
      "cell_type": "code",
      "execution_count": 22,
      "metadata": {
        "id": "CTMDEHA4KsHs",
        "outputId": "91a90a5f-5e22-4624-ec83-f8fc0df6cdc3",
        "colab": {
          "base_uri": "https://localhost:8080/"
        }
      },
      "outputs": [
        {
          "output_type": "stream",
          "name": "stderr",
          "text": [
            "100%|██████████| 100/100 [00:01<00:00, 78.11it/s]"
          ]
        },
        {
          "output_type": "stream",
          "name": "stdout",
          "text": [
            "RMSE for ridge: 0.21830698469763316, alpha = 1\n"
          ]
        },
        {
          "output_type": "stream",
          "name": "stderr",
          "text": [
            "\n"
          ]
        }
      ],
      "source": [
        "# Ridge regression\n",
        "best_ridge_model = None\n",
        "best_ridge_score = float('inf')\n",
        "best_alpha = 1\n",
        "for a in tqdm(range(0,100)):\n",
        "    ridge_model = Ridge(alpha=a/10).fit(x_train,y_train)\n",
        "    val_pred_ridge = ridge_model.predict(x_val)\n",
        "    val_score_ridge = rmse(val_pred_ridge,y_val)\n",
        "    if val_score_ridge < best_ridge_score:\n",
        "        best_alpha = a\n",
        "        best_ridge_score = val_score_ridge\n",
        "        best_ridge_model = ridge_model\n",
        "print(f'RMSE for ridge: {best_ridge_score}, alpha = {best_alpha}')"
      ]
    },
    {
      "cell_type": "markdown",
      "metadata": {
        "id": "y93VaZX9KsHv"
      },
      "source": [
        "## 4c. Prediction using Random Forests"
      ]
    },
    {
      "cell_type": "code",
      "execution_count": 23,
      "metadata": {
        "id": "xAHEcXYTKsHx",
        "outputId": "7cef2ec1-2818-45a3-c25d-dc8ee4b267d8",
        "colab": {
          "base_uri": "https://localhost:8080/"
        }
      },
      "outputs": [
        {
          "output_type": "stream",
          "name": "stdout",
          "text": [
            "RMSE for Random Forest: 0.12318053048520272\n"
          ]
        }
      ],
      "source": [
        "# RandomForest \n",
        "rf_model = RandomForestRegressor(n_estimators = 500,\n",
        "                                min_samples_split = 2,\n",
        "                                min_samples_leaf = 1,\n",
        "                                max_samples = 0.8\n",
        "                                )\n",
        "rf_model.fit(x_train,y_train)\n",
        "val_pred_rf = rf_model.predict(x_val)\n",
        "val_score_rf = rmse(val_pred_rf,y_val)\n",
        "print(f'RMSE for Random Forest: {val_score_rf}')"
      ]
    },
    {
      "cell_type": "markdown",
      "metadata": {
        "id": "9j6uzkzkKsH0"
      },
      "source": [
        "## 4d. Prediction using LGBM"
      ]
    },
    {
      "cell_type": "code",
      "execution_count": 26,
      "metadata": {
        "id": "zR81FO8ZKsH1",
        "outputId": "8c0a77b6-62ac-406a-e963-78f4a7beefcc",
        "colab": {
          "base_uri": "https://localhost:8080/"
        }
      },
      "outputs": [
        {
          "output_type": "stream",
          "name": "stdout",
          "text": [
            "Training until validation scores don't improve for 30 rounds.\n",
            "[100]\ttraining's rmse: 0.104317\tvalid_1's rmse: 0.118665\n",
            "[200]\ttraining's rmse: 0.0981742\tvalid_1's rmse: 0.117294\n",
            "Early stopping, best iteration is:\n",
            "[209]\ttraining's rmse: 0.0979237\tvalid_1's rmse: 0.117245\n"
          ]
        }
      ],
      "source": [
        "# LGBM\n",
        "lgb_params = {\n",
        "        'boosting_type': 'gbdt',         \n",
        "        'objective': 'regression',       \n",
        "        'metric': ['rmse'],             \n",
        "        'subsample': 0.5,                \n",
        "        'subsample_freq': 1,\n",
        "        'learning_rate': 0.05,           \n",
        "        'num_leaves': 2**8,            \n",
        "        'min_data_in_leaf': 2**4,      \n",
        "        'feature_fraction': 0.5,\n",
        "        'n_estimators': 5000,            \n",
        "        'early_stopping_rounds': 30,     \n",
        "        'verbose': -1,\n",
        "            } \n",
        "train_set = lgb.Dataset(x_train, y_train)\n",
        "val_set = lgb.Dataset(x_val, y_val)\n",
        "lgb_model = lgb.train(lgb_params, train_set, num_boost_round = 2000, valid_sets = [train_set, val_set], verbose_eval = 100)"
      ]
    },
    {
      "cell_type": "markdown",
      "metadata": {
        "id": "mQkp45B2KsH5"
      },
      "source": [
        "## 4e. Prediction using deep neural network"
      ]
    },
    {
      "cell_type": "code",
      "execution_count": 27,
      "metadata": {
        "id": "hBfxaYjXKsH8"
      },
      "outputs": [],
      "source": [
        "# training configurations\n",
        "from keras import backend as K\n",
        "\n",
        "def keras_rmse(y_true, y_pred):\n",
        "        return K.sqrt(K.mean(K.square(y_pred - y_true))) \n",
        "    \n",
        "num_epochs = 100\n",
        "batch_size = 4\n",
        "num_nodes = 256\n",
        "num_layers = 3\n",
        "dropout = 0.2\n",
        "loss_fn = keras_rmse\n",
        "optimizer = 'adagrad'"
      ]
    },
    {
      "cell_type": "code",
      "execution_count": 29,
      "metadata": {
        "id": "vfPrX13mKsH9",
        "outputId": "061de6ed-ac12-435e-a8e9-769a2d8b42c6",
        "colab": {
          "base_uri": "https://localhost:8080/"
        }
      },
      "outputs": [
        {
          "output_type": "stream",
          "name": "stdout",
          "text": [
            "Epoch 1/100\n",
            "3283/3293 [============================>.] - ETA: 0s - loss: 0.1478 - accuracy: 0.8321\n",
            "Epoch 1: val_accuracy improved from -inf to 0.83182, saving model to mlp_best_model.h5\n",
            "3293/3293 [==============================] - 10s 3ms/step - loss: 0.1477 - accuracy: 0.8321 - val_loss: 0.1390 - val_accuracy: 0.8318\n",
            "Epoch 2/100\n",
            "3280/3293 [============================>.] - ETA: 0s - loss: 0.1419 - accuracy: 0.8318\n",
            "Epoch 2: val_accuracy did not improve from 0.83182\n",
            "3293/3293 [==============================] - 8s 2ms/step - loss: 0.1414 - accuracy: 0.8321 - val_loss: 0.1383 - val_accuracy: 0.8318\n",
            "Epoch 3/100\n",
            "3286/3293 [============================>.] - ETA: 0s - loss: 0.1406 - accuracy: 0.8322\n",
            "Epoch 3: val_accuracy did not improve from 0.83182\n",
            "3293/3293 [==============================] - 9s 3ms/step - loss: 0.1405 - accuracy: 0.8321 - val_loss: 0.1381 - val_accuracy: 0.8318\n",
            "Epoch 4/100\n",
            "3288/3293 [============================>.] - ETA: 0s - loss: 0.1384 - accuracy: 0.8320\n",
            "Epoch 4: val_accuracy did not improve from 0.83182\n",
            "3293/3293 [==============================] - 8s 3ms/step - loss: 0.1384 - accuracy: 0.8321 - val_loss: 0.1379 - val_accuracy: 0.8318\n",
            "Epoch 5/100\n",
            "3272/3293 [============================>.] - ETA: 0s - loss: 0.1397 - accuracy: 0.8324\n",
            "Epoch 5: val_accuracy did not improve from 0.83182\n",
            "3293/3293 [==============================] - 8s 3ms/step - loss: 0.1403 - accuracy: 0.8321 - val_loss: 0.1379 - val_accuracy: 0.8318\n",
            "Epoch 6/100\n",
            "3273/3293 [============================>.] - ETA: 0s - loss: 0.1408 - accuracy: 0.8320\n",
            "Epoch 6: val_accuracy did not improve from 0.83182\n",
            "3293/3293 [==============================] - 8s 3ms/step - loss: 0.1404 - accuracy: 0.8321 - val_loss: 0.1378 - val_accuracy: 0.8318\n",
            "Epoch 7/100\n",
            "3287/3293 [============================>.] - ETA: 0s - loss: 0.1397 - accuracy: 0.8324\n",
            "Epoch 7: val_accuracy did not improve from 0.83182\n",
            "3293/3293 [==============================] - 9s 3ms/step - loss: 0.1401 - accuracy: 0.8321 - val_loss: 0.1378 - val_accuracy: 0.8318\n",
            "Epoch 8/100\n",
            "3284/3293 [============================>.] - ETA: 0s - loss: 0.1393 - accuracy: 0.8320\n",
            "Epoch 8: val_accuracy did not improve from 0.83182\n",
            "3293/3293 [==============================] - 8s 3ms/step - loss: 0.1392 - accuracy: 0.8321 - val_loss: 0.1378 - val_accuracy: 0.8318\n",
            "Epoch 9/100\n",
            "3292/3293 [============================>.] - ETA: 0s - loss: 0.1403 - accuracy: 0.8322\n",
            "Epoch 9: val_accuracy did not improve from 0.83182\n",
            "3293/3293 [==============================] - 8s 3ms/step - loss: 0.1403 - accuracy: 0.8321 - val_loss: 0.1377 - val_accuracy: 0.8318\n",
            "Epoch 10/100\n",
            "3277/3293 [============================>.] - ETA: 0s - loss: 0.1385 - accuracy: 0.8325\n",
            "Epoch 10: val_accuracy did not improve from 0.83182\n",
            "3293/3293 [==============================] - 8s 3ms/step - loss: 0.1389 - accuracy: 0.8321 - val_loss: 0.1377 - val_accuracy: 0.8318\n",
            "Epoch 11/100\n",
            "3280/3293 [============================>.] - ETA: 0s - loss: 0.1399 - accuracy: 0.8321\n",
            "Epoch 11: val_accuracy did not improve from 0.83182\n",
            "3293/3293 [==============================] - 8s 2ms/step - loss: 0.1398 - accuracy: 0.8321 - val_loss: 0.1377 - val_accuracy: 0.8318\n",
            "Epoch 12/100\n",
            "3293/3293 [==============================] - ETA: 0s - loss: 0.1403 - accuracy: 0.8321\n",
            "Epoch 12: val_accuracy did not improve from 0.83182\n",
            "3293/3293 [==============================] - 8s 2ms/step - loss: 0.1403 - accuracy: 0.8321 - val_loss: 0.1377 - val_accuracy: 0.8318\n",
            "Epoch 13/100\n",
            "3292/3293 [============================>.] - ETA: 0s - loss: 0.1405 - accuracy: 0.8322\n",
            "Epoch 13: val_accuracy did not improve from 0.83182\n",
            "3293/3293 [==============================] - 8s 2ms/step - loss: 0.1406 - accuracy: 0.8321 - val_loss: 0.1377 - val_accuracy: 0.8318\n",
            "Epoch 14/100\n",
            "3291/3293 [============================>.] - ETA: 0s - loss: 0.1389 - accuracy: 0.8323\n",
            "Epoch 14: val_accuracy did not improve from 0.83182\n",
            "3293/3293 [==============================] - 8s 2ms/step - loss: 0.1390 - accuracy: 0.8321 - val_loss: 0.1377 - val_accuracy: 0.8318\n",
            "Epoch 15/100\n",
            "3289/3293 [============================>.] - ETA: 0s - loss: 0.1405 - accuracy: 0.8322\n",
            "Epoch 15: val_accuracy did not improve from 0.83182\n",
            "3293/3293 [==============================] - 8s 3ms/step - loss: 0.1406 - accuracy: 0.8321 - val_loss: 0.1377 - val_accuracy: 0.8318\n",
            "Epoch 16/100\n",
            "3285/3293 [============================>.] - ETA: 0s - loss: 0.1391 - accuracy: 0.8320\n",
            "Epoch 16: val_accuracy did not improve from 0.83182\n",
            "3293/3293 [==============================] - 8s 2ms/step - loss: 0.1391 - accuracy: 0.8321 - val_loss: 0.1377 - val_accuracy: 0.8318\n",
            "Epoch 17/100\n",
            "3273/3293 [============================>.] - ETA: 0s - loss: 0.1386 - accuracy: 0.8325\n",
            "Epoch 17: val_accuracy did not improve from 0.83182\n",
            "3293/3293 [==============================] - 8s 3ms/step - loss: 0.1389 - accuracy: 0.8321 - val_loss: 0.1376 - val_accuracy: 0.8318\n",
            "Epoch 18/100\n",
            "3278/3293 [============================>.] - ETA: 0s - loss: 0.1396 - accuracy: 0.8324\n",
            "Epoch 18: val_accuracy did not improve from 0.83182\n",
            "3293/3293 [==============================] - 8s 3ms/step - loss: 0.1395 - accuracy: 0.8321 - val_loss: 0.1376 - val_accuracy: 0.8318\n",
            "Epoch 19/100\n",
            "3289/3293 [============================>.] - ETA: 0s - loss: 0.1389 - accuracy: 0.8319\n",
            "Epoch 19: val_accuracy did not improve from 0.83182\n",
            "3293/3293 [==============================] - 8s 2ms/step - loss: 0.1387 - accuracy: 0.8321 - val_loss: 0.1376 - val_accuracy: 0.8318\n",
            "Epoch 20/100\n",
            "3291/3293 [============================>.] - ETA: 0s - loss: 0.1397 - accuracy: 0.8323\n",
            "Epoch 20: val_accuracy did not improve from 0.83182\n",
            "3293/3293 [==============================] - 8s 2ms/step - loss: 0.1396 - accuracy: 0.8321 - val_loss: 0.1376 - val_accuracy: 0.8318\n",
            "Epoch 21/100\n",
            "3272/3293 [============================>.] - ETA: 0s - loss: 0.1397 - accuracy: 0.8323\n",
            "Epoch 21: val_accuracy did not improve from 0.83182\n",
            "3293/3293 [==============================] - 8s 2ms/step - loss: 0.1401 - accuracy: 0.8321 - val_loss: 0.1376 - val_accuracy: 0.8318\n",
            "Epoch 22/100\n",
            "3291/3293 [============================>.] - ETA: 0s - loss: 0.1396 - accuracy: 0.8321\n",
            "Epoch 22: val_accuracy did not improve from 0.83182\n",
            "3293/3293 [==============================] - 8s 2ms/step - loss: 0.1395 - accuracy: 0.8321 - val_loss: 0.1376 - val_accuracy: 0.8318\n",
            "Epoch 23/100\n",
            "3274/3293 [============================>.] - ETA: 0s - loss: 0.1390 - accuracy: 0.8319\n",
            "Epoch 23: val_accuracy did not improve from 0.83182\n",
            "3293/3293 [==============================] - 8s 2ms/step - loss: 0.1390 - accuracy: 0.8321 - val_loss: 0.1376 - val_accuracy: 0.8318\n",
            "Epoch 24/100\n",
            "3291/3293 [============================>.] - ETA: 0s - loss: 0.1384 - accuracy: 0.8320\n",
            "Epoch 24: val_accuracy did not improve from 0.83182\n",
            "3293/3293 [==============================] - 8s 2ms/step - loss: 0.1383 - accuracy: 0.8321 - val_loss: 0.1376 - val_accuracy: 0.8318\n",
            "Epoch 25/100\n",
            "3287/3293 [============================>.] - ETA: 0s - loss: 0.1375 - accuracy: 0.8322\n",
            "Epoch 25: val_accuracy did not improve from 0.83182\n",
            "3293/3293 [==============================] - 8s 2ms/step - loss: 0.1376 - accuracy: 0.8321 - val_loss: 0.1376 - val_accuracy: 0.8318\n",
            "Epoch 26/100\n",
            "3282/3293 [============================>.] - ETA: 0s - loss: 0.1384 - accuracy: 0.8322\n",
            "Epoch 26: val_accuracy did not improve from 0.83182\n",
            "3293/3293 [==============================] - 8s 3ms/step - loss: 0.1386 - accuracy: 0.8321 - val_loss: 0.1376 - val_accuracy: 0.8318\n",
            "Epoch 27/100\n",
            "3283/3293 [============================>.] - ETA: 0s - loss: 0.1396 - accuracy: 0.8322\n",
            "Epoch 27: val_accuracy did not improve from 0.83182\n",
            "3293/3293 [==============================] - 8s 3ms/step - loss: 0.1395 - accuracy: 0.8321 - val_loss: 0.1376 - val_accuracy: 0.8318\n",
            "Epoch 28/100\n",
            "3288/3293 [============================>.] - ETA: 0s - loss: 0.1390 - accuracy: 0.8322\n",
            "Epoch 28: val_accuracy did not improve from 0.83182\n",
            "3293/3293 [==============================] - 8s 2ms/step - loss: 0.1392 - accuracy: 0.8321 - val_loss: 0.1376 - val_accuracy: 0.8318\n",
            "Epoch 29/100\n",
            "3281/3293 [============================>.] - ETA: 0s - loss: 0.1396 - accuracy: 0.8320\n",
            "Epoch 29: val_accuracy did not improve from 0.83182\n",
            "3293/3293 [==============================] - 8s 2ms/step - loss: 0.1395 - accuracy: 0.8321 - val_loss: 0.1376 - val_accuracy: 0.8318\n",
            "Epoch 30/100\n",
            "3286/3293 [============================>.] - ETA: 0s - loss: 0.1390 - accuracy: 0.8320\n",
            "Epoch 30: val_accuracy did not improve from 0.83182\n",
            "3293/3293 [==============================] - 9s 3ms/step - loss: 0.1388 - accuracy: 0.8321 - val_loss: 0.1376 - val_accuracy: 0.8318\n",
            "Epoch 31/100\n",
            "3286/3293 [============================>.] - ETA: 0s - loss: 0.1405 - accuracy: 0.8319\n",
            "Epoch 31: val_accuracy did not improve from 0.83182\n",
            "3293/3293 [==============================] - 9s 3ms/step - loss: 0.1402 - accuracy: 0.8321 - val_loss: 0.1376 - val_accuracy: 0.8318\n",
            "Epoch 32/100\n",
            "3277/3293 [============================>.] - ETA: 0s - loss: 0.1395 - accuracy: 0.8323\n",
            "Epoch 32: val_accuracy did not improve from 0.83182\n",
            "3293/3293 [==============================] - 8s 2ms/step - loss: 0.1397 - accuracy: 0.8321 - val_loss: 0.1376 - val_accuracy: 0.8318\n",
            "Epoch 33/100\n",
            "3282/3293 [============================>.] - ETA: 0s - loss: 0.1405 - accuracy: 0.8320\n",
            "Epoch 33: val_accuracy did not improve from 0.83182\n",
            "3293/3293 [==============================] - 8s 3ms/step - loss: 0.1401 - accuracy: 0.8321 - val_loss: 0.1376 - val_accuracy: 0.8318\n",
            "Epoch 34/100\n",
            "3293/3293 [==============================] - ETA: 0s - loss: 0.1390 - accuracy: 0.8321\n",
            "Epoch 34: val_accuracy did not improve from 0.83182\n",
            "3293/3293 [==============================] - 9s 3ms/step - loss: 0.1390 - accuracy: 0.8321 - val_loss: 0.1376 - val_accuracy: 0.8318\n",
            "Epoch 35/100\n",
            "3275/3293 [============================>.] - ETA: 0s - loss: 0.1398 - accuracy: 0.8318\n",
            "Epoch 35: val_accuracy did not improve from 0.83182\n",
            "3293/3293 [==============================] - 8s 2ms/step - loss: 0.1396 - accuracy: 0.8321 - val_loss: 0.1376 - val_accuracy: 0.8318\n",
            "Epoch 36/100\n",
            "3281/3293 [============================>.] - ETA: 0s - loss: 0.1390 - accuracy: 0.8324\n",
            "Epoch 36: val_accuracy did not improve from 0.83182\n",
            "3293/3293 [==============================] - 8s 3ms/step - loss: 0.1393 - accuracy: 0.8321 - val_loss: 0.1376 - val_accuracy: 0.8318\n",
            "Epoch 37/100\n",
            "3286/3293 [============================>.] - ETA: 0s - loss: 0.1392 - accuracy: 0.8320\n",
            "Epoch 37: val_accuracy did not improve from 0.83182\n",
            "3293/3293 [==============================] - 8s 2ms/step - loss: 0.1390 - accuracy: 0.8321 - val_loss: 0.1376 - val_accuracy: 0.8318\n",
            "Epoch 38/100\n",
            "3270/3293 [============================>.] - ETA: 0s - loss: 0.1399 - accuracy: 0.8323\n",
            "Epoch 38: val_accuracy did not improve from 0.83182\n",
            "3293/3293 [==============================] - 8s 2ms/step - loss: 0.1401 - accuracy: 0.8321 - val_loss: 0.1376 - val_accuracy: 0.8318\n",
            "Epoch 39/100\n",
            "3270/3293 [============================>.] - ETA: 0s - loss: 0.1388 - accuracy: 0.8325\n",
            "Epoch 39: val_accuracy did not improve from 0.83182\n",
            "3293/3293 [==============================] - 9s 3ms/step - loss: 0.1392 - accuracy: 0.8321 - val_loss: 0.1376 - val_accuracy: 0.8318\n",
            "Epoch 40/100\n",
            "3291/3293 [============================>.] - ETA: 0s - loss: 0.1400 - accuracy: 0.8321\n",
            "Epoch 40: val_accuracy did not improve from 0.83182\n",
            "3293/3293 [==============================] - 9s 3ms/step - loss: 0.1400 - accuracy: 0.8321 - val_loss: 0.1376 - val_accuracy: 0.8318\n",
            "Epoch 41/100\n",
            "3284/3293 [============================>.] - ETA: 0s - loss: 0.1392 - accuracy: 0.8324\n",
            "Epoch 41: val_accuracy did not improve from 0.83182\n",
            "3293/3293 [==============================] - 9s 3ms/step - loss: 0.1395 - accuracy: 0.8321 - val_loss: 0.1376 - val_accuracy: 0.8318\n",
            "Epoch 42/100\n",
            "3276/3293 [============================>.] - ETA: 0s - loss: 0.1396 - accuracy: 0.8320\n",
            "Epoch 42: val_accuracy did not improve from 0.83182\n",
            "3293/3293 [==============================] - 8s 3ms/step - loss: 0.1392 - accuracy: 0.8321 - val_loss: 0.1376 - val_accuracy: 0.8318\n",
            "Epoch 43/100\n",
            "3291/3293 [============================>.] - ETA: 0s - loss: 0.1402 - accuracy: 0.8321\n",
            "Epoch 43: val_accuracy did not improve from 0.83182\n",
            "3293/3293 [==============================] - 8s 3ms/step - loss: 0.1401 - accuracy: 0.8321 - val_loss: 0.1376 - val_accuracy: 0.8318\n",
            "Epoch 44/100\n",
            "3284/3293 [============================>.] - ETA: 0s - loss: 0.1386 - accuracy: 0.8321\n",
            "Epoch 44: val_accuracy did not improve from 0.83182\n",
            "3293/3293 [==============================] - 8s 3ms/step - loss: 0.1387 - accuracy: 0.8321 - val_loss: 0.1376 - val_accuracy: 0.8318\n",
            "Epoch 45/100\n",
            "3280/3293 [============================>.] - ETA: 0s - loss: 0.1395 - accuracy: 0.8319\n",
            "Epoch 45: val_accuracy did not improve from 0.83182\n",
            "3293/3293 [==============================] - 9s 3ms/step - loss: 0.1394 - accuracy: 0.8321 - val_loss: 0.1376 - val_accuracy: 0.8318\n",
            "Epoch 46/100\n",
            "3293/3293 [==============================] - ETA: 0s - loss: 0.1401 - accuracy: 0.8321\n",
            "Epoch 46: val_accuracy did not improve from 0.83182\n",
            "3293/3293 [==============================] - 9s 3ms/step - loss: 0.1401 - accuracy: 0.8321 - val_loss: 0.1376 - val_accuracy: 0.8318\n",
            "Epoch 47/100\n",
            "3292/3293 [============================>.] - ETA: 0s - loss: 0.1394 - accuracy: 0.8322\n",
            "Epoch 47: val_accuracy did not improve from 0.83182\n",
            "3293/3293 [==============================] - 9s 3ms/step - loss: 0.1394 - accuracy: 0.8321 - val_loss: 0.1376 - val_accuracy: 0.8318\n",
            "Epoch 48/100\n",
            "3291/3293 [============================>.] - ETA: 0s - loss: 0.1394 - accuracy: 0.8320\n",
            "Epoch 48: val_accuracy did not improve from 0.83182\n",
            "3293/3293 [==============================] - 9s 3ms/step - loss: 0.1394 - accuracy: 0.8321 - val_loss: 0.1376 - val_accuracy: 0.8318\n",
            "Epoch 49/100\n",
            "3291/3293 [============================>.] - ETA: 0s - loss: 0.1382 - accuracy: 0.8320\n",
            "Epoch 49: val_accuracy did not improve from 0.83182\n",
            "3293/3293 [==============================] - 8s 2ms/step - loss: 0.1381 - accuracy: 0.8321 - val_loss: 0.1376 - val_accuracy: 0.8318\n",
            "Epoch 50/100\n",
            "3271/3293 [============================>.] - ETA: 0s - loss: 0.1372 - accuracy: 0.8323\n",
            "Epoch 50: val_accuracy did not improve from 0.83182\n",
            "3293/3293 [==============================] - 9s 3ms/step - loss: 0.1375 - accuracy: 0.8321 - val_loss: 0.1376 - val_accuracy: 0.8318\n",
            "Epoch 51/100\n",
            "3274/3293 [============================>.] - ETA: 0s - loss: 0.1395 - accuracy: 0.8321\n",
            "Epoch 51: val_accuracy did not improve from 0.83182\n",
            "3293/3293 [==============================] - 9s 3ms/step - loss: 0.1394 - accuracy: 0.8321 - val_loss: 0.1376 - val_accuracy: 0.8318\n",
            "Epoch 52/100\n",
            "3285/3293 [============================>.] - ETA: 0s - loss: 0.1393 - accuracy: 0.8323\n",
            "Epoch 52: val_accuracy did not improve from 0.83182\n",
            "3293/3293 [==============================] - 9s 3ms/step - loss: 0.1395 - accuracy: 0.8321 - val_loss: 0.1376 - val_accuracy: 0.8318\n",
            "Epoch 53/100\n",
            "3291/3293 [============================>.] - ETA: 0s - loss: 0.1395 - accuracy: 0.8322\n",
            "Epoch 53: val_accuracy did not improve from 0.83182\n",
            "3293/3293 [==============================] - 8s 2ms/step - loss: 0.1398 - accuracy: 0.8321 - val_loss: 0.1376 - val_accuracy: 0.8318\n",
            "Epoch 54/100\n",
            "3277/3293 [============================>.] - ETA: 0s - loss: 0.1399 - accuracy: 0.8322\n",
            "Epoch 54: val_accuracy did not improve from 0.83182\n",
            "3293/3293 [==============================] - 9s 3ms/step - loss: 0.1400 - accuracy: 0.8321 - val_loss: 0.1376 - val_accuracy: 0.8318\n",
            "Epoch 55/100\n",
            "3281/3293 [============================>.] - ETA: 0s - loss: 0.1402 - accuracy: 0.8319\n",
            "Epoch 55: val_accuracy did not improve from 0.83182\n",
            "3293/3293 [==============================] - 9s 3ms/step - loss: 0.1400 - accuracy: 0.8321 - val_loss: 0.1376 - val_accuracy: 0.8318\n",
            "Epoch 56/100\n",
            "3285/3293 [============================>.] - ETA: 0s - loss: 0.1395 - accuracy: 0.8323\n",
            "Epoch 56: val_accuracy did not improve from 0.83182\n",
            "3293/3293 [==============================] - 9s 3ms/step - loss: 0.1396 - accuracy: 0.8321 - val_loss: 0.1376 - val_accuracy: 0.8318\n",
            "Epoch 57/100\n",
            "3281/3293 [============================>.] - ETA: 0s - loss: 0.1395 - accuracy: 0.8324\n",
            "Epoch 57: val_accuracy did not improve from 0.83182\n",
            "3293/3293 [==============================] - 8s 2ms/step - loss: 0.1394 - accuracy: 0.8321 - val_loss: 0.1376 - val_accuracy: 0.8318\n",
            "Epoch 58/100\n",
            "3280/3293 [============================>.] - ETA: 0s - loss: 0.1390 - accuracy: 0.8318\n",
            "Epoch 58: val_accuracy did not improve from 0.83182\n",
            "3293/3293 [==============================] - 9s 3ms/step - loss: 0.1387 - accuracy: 0.8321 - val_loss: 0.1376 - val_accuracy: 0.8318\n",
            "Epoch 59/100\n",
            "3291/3293 [============================>.] - ETA: 0s - loss: 0.1402 - accuracy: 0.8323\n",
            "Epoch 59: val_accuracy did not improve from 0.83182\n",
            "3293/3293 [==============================] - 9s 3ms/step - loss: 0.1402 - accuracy: 0.8321 - val_loss: 0.1376 - val_accuracy: 0.8318\n",
            "Epoch 60/100\n",
            "3285/3293 [============================>.] - ETA: 0s - loss: 0.1398 - accuracy: 0.8325\n",
            "Epoch 60: val_accuracy did not improve from 0.83182\n",
            "3293/3293 [==============================] - 9s 3ms/step - loss: 0.1398 - accuracy: 0.8321 - val_loss: 0.1376 - val_accuracy: 0.8318\n",
            "Epoch 61/100\n",
            "3276/3293 [============================>.] - ETA: 0s - loss: 0.1393 - accuracy: 0.8324\n",
            "Epoch 61: val_accuracy did not improve from 0.83182\n",
            "3293/3293 [==============================] - 8s 2ms/step - loss: 0.1393 - accuracy: 0.8321 - val_loss: 0.1376 - val_accuracy: 0.8318\n",
            "Epoch 62/100\n",
            "3288/3293 [============================>.] - ETA: 0s - loss: 0.1398 - accuracy: 0.8320\n",
            "Epoch 62: val_accuracy did not improve from 0.83182\n",
            "3293/3293 [==============================] - 8s 2ms/step - loss: 0.1397 - accuracy: 0.8321 - val_loss: 0.1376 - val_accuracy: 0.8318\n",
            "Epoch 63/100\n",
            "3272/3293 [============================>.] - ETA: 0s - loss: 0.1397 - accuracy: 0.8323\n",
            "Epoch 63: val_accuracy did not improve from 0.83182\n",
            "3293/3293 [==============================] - 8s 2ms/step - loss: 0.1397 - accuracy: 0.8321 - val_loss: 0.1376 - val_accuracy: 0.8318\n",
            "Epoch 64/100\n",
            "3285/3293 [============================>.] - ETA: 0s - loss: 0.1397 - accuracy: 0.8323\n",
            "Epoch 64: val_accuracy did not improve from 0.83182\n",
            "3293/3293 [==============================] - 8s 2ms/step - loss: 0.1399 - accuracy: 0.8321 - val_loss: 0.1376 - val_accuracy: 0.8318\n",
            "Epoch 65/100\n",
            "3281/3293 [============================>.] - ETA: 0s - loss: 0.1376 - accuracy: 0.8322\n",
            "Epoch 65: val_accuracy did not improve from 0.83182\n",
            "3293/3293 [==============================] - 8s 2ms/step - loss: 0.1375 - accuracy: 0.8321 - val_loss: 0.1376 - val_accuracy: 0.8318\n",
            "Epoch 66/100\n",
            "3292/3293 [============================>.] - ETA: 0s - loss: 0.1395 - accuracy: 0.8321\n",
            "Epoch 66: val_accuracy did not improve from 0.83182\n",
            "3293/3293 [==============================] - 8s 3ms/step - loss: 0.1395 - accuracy: 0.8321 - val_loss: 0.1376 - val_accuracy: 0.8318\n",
            "Epoch 67/100\n",
            "3283/3293 [============================>.] - ETA: 0s - loss: 0.1393 - accuracy: 0.8321\n",
            "Epoch 67: val_accuracy did not improve from 0.83182\n",
            "3293/3293 [==============================] - 8s 3ms/step - loss: 0.1392 - accuracy: 0.8321 - val_loss: 0.1376 - val_accuracy: 0.8318\n",
            "Epoch 68/100\n",
            "3290/3293 [============================>.] - ETA: 0s - loss: 0.1408 - accuracy: 0.8320\n",
            "Epoch 68: val_accuracy did not improve from 0.83182\n",
            "3293/3293 [==============================] - 8s 3ms/step - loss: 0.1406 - accuracy: 0.8321 - val_loss: 0.1376 - val_accuracy: 0.8318\n",
            "Epoch 69/100\n",
            "3291/3293 [============================>.] - ETA: 0s - loss: 0.1385 - accuracy: 0.8321\n",
            "Epoch 69: val_accuracy did not improve from 0.83182\n",
            "3293/3293 [==============================] - 8s 2ms/step - loss: 0.1385 - accuracy: 0.8321 - val_loss: 0.1376 - val_accuracy: 0.8318\n",
            "Epoch 70/100\n",
            "3293/3293 [==============================] - ETA: 0s - loss: 0.1400 - accuracy: 0.8321\n",
            "Epoch 70: val_accuracy did not improve from 0.83182\n",
            "3293/3293 [==============================] - 8s 3ms/step - loss: 0.1400 - accuracy: 0.8321 - val_loss: 0.1376 - val_accuracy: 0.8318\n",
            "Epoch 71/100\n",
            "3277/3293 [============================>.] - ETA: 0s - loss: 0.1393 - accuracy: 0.8320\n",
            "Epoch 71: val_accuracy did not improve from 0.83182\n",
            "3293/3293 [==============================] - 8s 3ms/step - loss: 0.1394 - accuracy: 0.8321 - val_loss: 0.1376 - val_accuracy: 0.8318\n",
            "Epoch 72/100\n",
            "3292/3293 [============================>.] - ETA: 0s - loss: 0.1409 - accuracy: 0.8321\n",
            "Epoch 72: val_accuracy did not improve from 0.83182\n",
            "3293/3293 [==============================] - 8s 2ms/step - loss: 0.1409 - accuracy: 0.8321 - val_loss: 0.1376 - val_accuracy: 0.8318\n",
            "Epoch 73/100\n",
            "3284/3293 [============================>.] - ETA: 0s - loss: 0.1384 - accuracy: 0.8321\n",
            "Epoch 73: val_accuracy did not improve from 0.83182\n",
            "3293/3293 [==============================] - 8s 2ms/step - loss: 0.1382 - accuracy: 0.8321 - val_loss: 0.1376 - val_accuracy: 0.8318\n",
            "Epoch 74/100\n",
            "3278/3293 [============================>.] - ETA: 0s - loss: 0.1390 - accuracy: 0.8319\n",
            "Epoch 74: val_accuracy did not improve from 0.83182\n",
            "3293/3293 [==============================] - 9s 3ms/step - loss: 0.1391 - accuracy: 0.8321 - val_loss: 0.1376 - val_accuracy: 0.8318\n",
            "Epoch 75/100\n",
            "3276/3293 [============================>.] - ETA: 0s - loss: 0.1399 - accuracy: 0.8327\n",
            "Epoch 75: val_accuracy did not improve from 0.83182\n",
            "3293/3293 [==============================] - 8s 2ms/step - loss: 0.1402 - accuracy: 0.8321 - val_loss: 0.1376 - val_accuracy: 0.8318\n",
            "Epoch 76/100\n",
            "3283/3293 [============================>.] - ETA: 0s - loss: 0.1401 - accuracy: 0.8322\n",
            "Epoch 76: val_accuracy did not improve from 0.83182\n",
            "3293/3293 [==============================] - 9s 3ms/step - loss: 0.1401 - accuracy: 0.8321 - val_loss: 0.1376 - val_accuracy: 0.8318\n",
            "Epoch 77/100\n",
            "3290/3293 [============================>.] - ETA: 0s - loss: 0.1396 - accuracy: 0.8322\n",
            "Epoch 77: val_accuracy did not improve from 0.83182\n",
            "3293/3293 [==============================] - 9s 3ms/step - loss: 0.1396 - accuracy: 0.8321 - val_loss: 0.1376 - val_accuracy: 0.8318\n",
            "Epoch 78/100\n",
            "3273/3293 [============================>.] - ETA: 0s - loss: 0.1404 - accuracy: 0.8320\n",
            "Epoch 78: val_accuracy did not improve from 0.83182\n",
            "3293/3293 [==============================] - 8s 3ms/step - loss: 0.1404 - accuracy: 0.8321 - val_loss: 0.1376 - val_accuracy: 0.8318\n",
            "Epoch 79/100\n",
            "3287/3293 [============================>.] - ETA: 0s - loss: 0.1394 - accuracy: 0.8319\n",
            "Epoch 79: val_accuracy did not improve from 0.83182\n",
            "3293/3293 [==============================] - 8s 3ms/step - loss: 0.1391 - accuracy: 0.8321 - val_loss: 0.1376 - val_accuracy: 0.8318\n",
            "Epoch 80/100\n",
            "3290/3293 [============================>.] - ETA: 0s - loss: 0.1405 - accuracy: 0.8321\n",
            "Epoch 80: val_accuracy did not improve from 0.83182\n",
            "3293/3293 [==============================] - 8s 3ms/step - loss: 0.1405 - accuracy: 0.8321 - val_loss: 0.1376 - val_accuracy: 0.8318\n",
            "Epoch 81/100\n",
            "3282/3293 [============================>.] - ETA: 0s - loss: 0.1391 - accuracy: 0.8323\n",
            "Epoch 81: val_accuracy did not improve from 0.83182\n",
            "3293/3293 [==============================] - 9s 3ms/step - loss: 0.1393 - accuracy: 0.8321 - val_loss: 0.1376 - val_accuracy: 0.8318\n",
            "Epoch 82/100\n",
            "3292/3293 [============================>.] - ETA: 0s - loss: 0.1402 - accuracy: 0.8322\n",
            "Epoch 82: val_accuracy did not improve from 0.83182\n",
            "3293/3293 [==============================] - 8s 2ms/step - loss: 0.1403 - accuracy: 0.8321 - val_loss: 0.1376 - val_accuracy: 0.8318\n",
            "Epoch 83/100\n",
            "3282/3293 [============================>.] - ETA: 0s - loss: 0.1386 - accuracy: 0.8320\n",
            "Epoch 83: val_accuracy did not improve from 0.83182\n",
            "3293/3293 [==============================] - 9s 3ms/step - loss: 0.1386 - accuracy: 0.8321 - val_loss: 0.1376 - val_accuracy: 0.8318\n",
            "Epoch 84/100\n",
            "3270/3293 [============================>.] - ETA: 0s - loss: 0.1398 - accuracy: 0.8325\n",
            "Epoch 84: val_accuracy did not improve from 0.83182\n",
            "3293/3293 [==============================] - 8s 2ms/step - loss: 0.1398 - accuracy: 0.8321 - val_loss: 0.1376 - val_accuracy: 0.8318\n",
            "Epoch 85/100\n",
            "3277/3293 [============================>.] - ETA: 0s - loss: 0.1394 - accuracy: 0.8320\n",
            "Epoch 85: val_accuracy did not improve from 0.83182\n",
            "3293/3293 [==============================] - 9s 3ms/step - loss: 0.1393 - accuracy: 0.8321 - val_loss: 0.1376 - val_accuracy: 0.8318\n",
            "Epoch 86/100\n",
            "3275/3293 [============================>.] - ETA: 0s - loss: 0.1406 - accuracy: 0.8321\n",
            "Epoch 86: val_accuracy did not improve from 0.83182\n",
            "3293/3293 [==============================] - 9s 3ms/step - loss: 0.1406 - accuracy: 0.8321 - val_loss: 0.1376 - val_accuracy: 0.8318\n",
            "Epoch 87/100\n",
            "3282/3293 [============================>.] - ETA: 0s - loss: 0.1402 - accuracy: 0.8321\n",
            "Epoch 87: val_accuracy did not improve from 0.83182\n",
            "3293/3293 [==============================] - 9s 3ms/step - loss: 0.1402 - accuracy: 0.8321 - val_loss: 0.1376 - val_accuracy: 0.8318\n",
            "Epoch 88/100\n",
            "3293/3293 [==============================] - ETA: 0s - loss: 0.1387 - accuracy: 0.8321\n",
            "Epoch 88: val_accuracy did not improve from 0.83182\n",
            "3293/3293 [==============================] - 9s 3ms/step - loss: 0.1387 - accuracy: 0.8321 - val_loss: 0.1376 - val_accuracy: 0.8318\n",
            "Epoch 89/100\n",
            "3289/3293 [============================>.] - ETA: 0s - loss: 0.1395 - accuracy: 0.8321\n",
            "Epoch 89: val_accuracy did not improve from 0.83182\n",
            "3293/3293 [==============================] - 8s 2ms/step - loss: 0.1395 - accuracy: 0.8321 - val_loss: 0.1376 - val_accuracy: 0.8318\n",
            "Epoch 90/100\n",
            "3291/3293 [============================>.] - ETA: 0s - loss: 0.1396 - accuracy: 0.8320\n",
            "Epoch 90: val_accuracy did not improve from 0.83182\n",
            "3293/3293 [==============================] - 8s 2ms/step - loss: 0.1395 - accuracy: 0.8321 - val_loss: 0.1376 - val_accuracy: 0.8318\n",
            "Epoch 91/100\n",
            "3278/3293 [============================>.] - ETA: 0s - loss: 0.1392 - accuracy: 0.8317\n",
            "Epoch 91: val_accuracy did not improve from 0.83182\n",
            "3293/3293 [==============================] - 9s 3ms/step - loss: 0.1388 - accuracy: 0.8321 - val_loss: 0.1376 - val_accuracy: 0.8318\n",
            "Epoch 92/100\n",
            "3288/3293 [============================>.] - ETA: 0s - loss: 0.1400 - accuracy: 0.8323\n",
            "Epoch 92: val_accuracy did not improve from 0.83182\n",
            "3293/3293 [==============================] - 9s 3ms/step - loss: 0.1402 - accuracy: 0.8321 - val_loss: 0.1376 - val_accuracy: 0.8318\n",
            "Epoch 93/100\n",
            "3290/3293 [============================>.] - ETA: 0s - loss: 0.1390 - accuracy: 0.8321\n",
            "Epoch 93: val_accuracy did not improve from 0.83182\n",
            "3293/3293 [==============================] - 8s 3ms/step - loss: 0.1391 - accuracy: 0.8321 - val_loss: 0.1376 - val_accuracy: 0.8318\n",
            "Epoch 94/100\n",
            "3277/3293 [============================>.] - ETA: 0s - loss: 0.1404 - accuracy: 0.8319\n",
            "Epoch 94: val_accuracy did not improve from 0.83182\n",
            "3293/3293 [==============================] - 8s 3ms/step - loss: 0.1399 - accuracy: 0.8321 - val_loss: 0.1376 - val_accuracy: 0.8318\n",
            "Epoch 95/100\n",
            "3273/3293 [============================>.] - ETA: 0s - loss: 0.1392 - accuracy: 0.8317\n",
            "Epoch 95: val_accuracy did not improve from 0.83182\n",
            "3293/3293 [==============================] - 8s 3ms/step - loss: 0.1387 - accuracy: 0.8321 - val_loss: 0.1376 - val_accuracy: 0.8318\n",
            "Epoch 96/100\n",
            "3293/3293 [==============================] - ETA: 0s - loss: 0.1384 - accuracy: 0.8321\n",
            "Epoch 96: val_accuracy did not improve from 0.83182\n",
            "3293/3293 [==============================] - 8s 2ms/step - loss: 0.1384 - accuracy: 0.8321 - val_loss: 0.1376 - val_accuracy: 0.8318\n",
            "Epoch 97/100\n",
            "3278/3293 [============================>.] - ETA: 0s - loss: 0.1386 - accuracy: 0.8324\n",
            "Epoch 97: val_accuracy did not improve from 0.83182\n",
            "3293/3293 [==============================] - 8s 2ms/step - loss: 0.1388 - accuracy: 0.8321 - val_loss: 0.1376 - val_accuracy: 0.8318\n",
            "Epoch 98/100\n",
            "3284/3293 [============================>.] - ETA: 0s - loss: 0.1395 - accuracy: 0.8322\n",
            "Epoch 98: val_accuracy did not improve from 0.83182\n",
            "3293/3293 [==============================] - 12s 4ms/step - loss: 0.1396 - accuracy: 0.8321 - val_loss: 0.1376 - val_accuracy: 0.8318\n",
            "Epoch 99/100\n",
            "3290/3293 [============================>.] - ETA: 0s - loss: 0.1395 - accuracy: 0.8321\n",
            "Epoch 99: val_accuracy did not improve from 0.83182\n",
            "3293/3293 [==============================] - 8s 3ms/step - loss: 0.1394 - accuracy: 0.8321 - val_loss: 0.1376 - val_accuracy: 0.8318\n",
            "Epoch 100/100\n",
            "3280/3293 [============================>.] - ETA: 0s - loss: 0.1388 - accuracy: 0.8322\n",
            "Epoch 100: val_accuracy did not improve from 0.83182\n",
            "3293/3293 [==============================] - 9s 3ms/step - loss: 0.1388 - accuracy: 0.8321 - val_loss: 0.1376 - val_accuracy: 0.8318\n"
          ]
        },
        {
          "output_type": "execute_result",
          "data": {
            "text/plain": [
              "<keras.callbacks.History at 0x7f63ab41afd0>"
            ]
          },
          "metadata": {},
          "execution_count": 29
        }
      ],
      "source": [
        "# MLP\n",
        "mlp_model = Sequential()\n",
        "mlp_model.add(Dense(num_nodes, input_dim=x_train.shape[1], activation='sigmoid'))\n",
        "mlp_model.add(Dropout(dropout))\n",
        "\n",
        "for i in range(num_layers-1):\n",
        "    mlp_model.add(Dense(num_nodes, activation='sigmoid'))\n",
        "    mlp_model.add(Dropout(dropout))\n",
        "mlp_model.add(Dense(1, activation='sigmoid'))\n",
        "mlp_model.compile(loss=loss_fn, optimizer=optimizer, metrics=['accuracy'])\n",
        "es = EarlyStopping(monitor='val_loss', mode='min', verbose=1, patience=2)\n",
        "mc = ModelCheckpoint('mlp_best_model.h5', monitor='val_accuracy', mode='max', verbose=1, save_best_only=True)\n",
        "mlp_model.fit(x_train, y_train,\n",
        "                batch_size=batch_size,\n",
        "                epochs=num_epochs,\n",
        "                validation_data=(x_val, y_val),\n",
        "                callbacks=[es,mc],\n",
        "                verbose=1)"
      ]
    },
    {
      "cell_type": "markdown",
      "metadata": {
        "id": "YwnZpaIIKsH-"
      },
      "source": [
        "## 4f. Prediction using a stacking ensemble"
      ]
    },
    {
      "cell_type": "code",
      "execution_count": 30,
      "metadata": {
        "id": "Bt1Cbu4WKsH_"
      },
      "outputs": [],
      "source": [
        "# stacking ensemble\n",
        "\n",
        "# creating stacked dataset\n",
        "lasso_pred = best_lasso_model.predict(x_val)\n",
        "ridge_pred = best_ridge_model.predict(x_val)\n",
        "rf_pred = rf_model.predict(x_val)\n",
        "lgb_pred = lgb_model.predict(x_val)\n",
        "mlp_pred = mlp_model.predict(x_val)\n",
        "mlp_pred = mlp_pred.reshape(mlp_pred.shape[0])\n",
        "preds = [lasso_pred, ridge_pred, rf_pred, lgb_pred, mlp_pred]\n",
        "stacked_X = None\n",
        "for pred in preds:\n",
        "    if stacked_X is None:\n",
        "        stacked_X = pred\n",
        "    else:\n",
        "        stacked_X = np.dstack((stacked_X, pred))\n",
        "\n",
        "stacked_X = stacked_X.reshape(stacked_X.shape[1],stacked_X.shape[2])"
      ]
    },
    {
      "cell_type": "code",
      "execution_count": 35,
      "metadata": {
        "id": "fM66YZNmKsIB"
      },
      "outputs": [],
      "source": [
        "# train-test split\n",
        "cut = stacked_X.shape[0]//5\n",
        "stacked_x_val = stacked_X[:cut]\n",
        "stacked_x_train = stacked_X[cut:]\n",
        "stacked_y_val = y_val[:cut]\n",
        "stacked_y_train = y_val[cut:]"
      ]
    },
    {
      "cell_type": "code",
      "execution_count": 36,
      "metadata": {
        "id": "lnK6eKCBKsID",
        "outputId": "b6f4cd5b-3803-4e97-ac9c-547a7d140983",
        "colab": {
          "base_uri": "https://localhost:8080/"
        }
      },
      "outputs": [
        {
          "output_type": "stream",
          "name": "stdout",
          "text": [
            "Epoch 1/100\n",
            "632/659 [===========================>..] - ETA: 0s - loss: 0.1483 - accuracy: 0.8307\n",
            "Epoch 1: val_accuracy improved from -inf to 0.82371, saving model to ensemble_best_model.h5\n",
            "659/659 [==============================] - 2s 2ms/step - loss: 0.1475 - accuracy: 0.8312 - val_loss: 0.1368 - val_accuracy: 0.8237\n",
            "Epoch 2/100\n",
            "637/659 [===========================>..] - ETA: 0s - loss: 0.1383 - accuracy: 0.8324\n",
            "Epoch 2: val_accuracy did not improve from 0.82371\n",
            "659/659 [==============================] - 1s 2ms/step - loss: 0.1380 - accuracy: 0.8338 - val_loss: 0.1365 - val_accuracy: 0.8237\n",
            "Epoch 3/100\n",
            "638/659 [============================>.] - ETA: 0s - loss: 0.1410 - accuracy: 0.8362\n",
            "Epoch 3: val_accuracy did not improve from 0.82371\n",
            "659/659 [==============================] - 1s 2ms/step - loss: 0.1411 - accuracy: 0.8338 - val_loss: 0.1364 - val_accuracy: 0.8237\n",
            "Epoch 4/100\n",
            "656/659 [============================>.] - ETA: 0s - loss: 0.1170 - accuracy: 0.8403\n",
            "Epoch 4: val_accuracy improved from 0.82371 to 0.84498, saving model to ensemble_best_model.h5\n",
            "659/659 [==============================] - 1s 2ms/step - loss: 0.1167 - accuracy: 0.8407 - val_loss: 0.0721 - val_accuracy: 0.8450\n",
            "Epoch 5/100\n",
            "648/659 [============================>.] - ETA: 0s - loss: 0.0713 - accuracy: 0.8515\n",
            "Epoch 5: val_accuracy did not improve from 0.84498\n",
            "659/659 [==============================] - 1s 2ms/step - loss: 0.0713 - accuracy: 0.8513 - val_loss: 0.0660 - val_accuracy: 0.8450\n",
            "Epoch 6/100\n",
            "658/659 [============================>.] - ETA: 0s - loss: 0.0711 - accuracy: 0.8503\n",
            "Epoch 6: val_accuracy did not improve from 0.84498\n",
            "659/659 [==============================] - 1s 2ms/step - loss: 0.0710 - accuracy: 0.8505 - val_loss: 0.0651 - val_accuracy: 0.8450\n",
            "Epoch 7/100\n",
            "641/659 [============================>.] - ETA: 0s - loss: 0.0705 - accuracy: 0.8506\n",
            "Epoch 7: val_accuracy did not improve from 0.84498\n",
            "659/659 [==============================] - 1s 2ms/step - loss: 0.0706 - accuracy: 0.8513 - val_loss: 0.0668 - val_accuracy: 0.8450\n",
            "Epoch 8/100\n",
            "645/659 [============================>.] - ETA: 0s - loss: 0.0714 - accuracy: 0.8500\n",
            "Epoch 8: val_accuracy did not improve from 0.84498\n",
            "659/659 [==============================] - 1s 2ms/step - loss: 0.0706 - accuracy: 0.8513 - val_loss: 0.0655 - val_accuracy: 0.8450\n",
            "Epoch 9/100\n",
            "657/659 [============================>.] - ETA: 0s - loss: 0.0722 - accuracy: 0.8505\n",
            "Epoch 9: val_accuracy did not improve from 0.84498\n",
            "659/659 [==============================] - 1s 2ms/step - loss: 0.0722 - accuracy: 0.8505 - val_loss: 0.0671 - val_accuracy: 0.8450\n",
            "Epoch 9: early stopping\n"
          ]
        }
      ],
      "source": [
        "# use MLP for stacking ensemble\n",
        "model = Sequential()\n",
        "model.add(Dense(num_nodes, input_dim=stacked_x_train.shape[1], activation='sigmoid'))\n",
        "model.add(Dropout(dropout))\n",
        "model.add(Dense(1, activation='sigmoid'))\n",
        "model.compile(loss=keras_rmse, optimizer='adam', metrics=['accuracy'])\n",
        "es = EarlyStopping(monitor='val_loss', mode='min', verbose=1, patience=3)\n",
        "mc = ModelCheckpoint('ensemble_best_model.h5', monitor='val_accuracy', mode='max', verbose=1, save_best_only=True)\n",
        "history=model.fit(stacked_x_train, stacked_y_train,\n",
        "                batch_size=batch_size,\n",
        "                epochs=100,\n",
        "                validation_data=(stacked_x_val, stacked_y_val),\n",
        "               callbacks=[es,mc],\n",
        "                 verbose=1)\n",
        "# score, accuracy = model.evaluate(stacked_x_test, stacked_y_test,batch_size=batch_size)\n",
        "# # print(f'Test score: {score}')\n",
        "# print(f'Final test accuracy: {accuracy}')"
      ]
    },
    {
      "cell_type": "code",
      "source": [
        "hist = history\n",
        "plt.plot(hist.history[\"accuracy\"])\n",
        "plt.plot(hist.history[\"val_accuracy\"])\n",
        "plt.plot(hist.history[\"loss\"])\n",
        "plt.plot(hist.history[\"val_loss\"])\n",
        "plt.title(\"model_accuracy\")\n",
        "plt.ylabel(\"Accuracy\")\n",
        "plt.xlabel(\"Epoch\")\n",
        "plt.legend([\"Accuracy\",\"Validation Accuracy\",\"loss\",\"validation loss\"])\n",
        "plt.show()"
      ],
      "metadata": {
        "colab": {
          "base_uri": "https://localhost:8080/",
          "height": 295
        },
        "id": "plurXwvYU48F",
        "outputId": "8f80c5f9-32a0-43b4-90cd-b25fd2abe070"
      },
      "execution_count": 45,
      "outputs": [
        {
          "output_type": "display_data",
          "data": {
            "text/plain": [
              "<Figure size 432x288 with 1 Axes>"
            ],
            "image/png": "[encoded data removed]"
          },
          "metadata": {
            "needs_background": "light"
          }
        }
      ]
    }
  ],
  "metadata": {
    "kernelspec": {
      "display_name": "Python 3",
      "language": "python",
      "name": "python3"
    },
    "language_info": {
      "codemirror_mode": {
        "name": "ipython",
        "version": 3
      },
      "file_extension": ".py",
      "mimetype": "text/x-python",
      "name": "python",
      "nbconvert_exporter": "python",
      "pygments_lexer": "ipython3",
      "version": "3.6.9"
    },
    "colab": {
      "name": "Models.ipynb",
      "provenance": []
    }
  },
  "nbformat": 4,
  "nbformat_minor": 0
}